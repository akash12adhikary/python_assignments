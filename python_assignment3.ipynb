{
 "cells": [
  {
   "cell_type": "markdown",
   "id": "d5b16c5f-f9fa-4c68-a09f-c666481e1c2e",
   "metadata": {},
   "source": [
    "# Q1. Create a python program to sort the given list of tuples based on integer value using a lambda function."
   ]
  },
  {
   "cell_type": "code",
   "execution_count": null,
   "id": "8a654d85-6135-4fac-a6dc-fe1dac3595ac",
   "metadata": {},
   "outputs": [],
   "source": [
    "l=[('Sachin Tendulkar', 34357), ('Ricky Ponting', 27483), ('Jack Kallis', 25534), ('Virat Kohli', 24936)]"
   ]
  },
  {
   "cell_type": "code",
   "execution_count": 5,
   "id": "f250331c-1744-46b0-ac62-791968abe9e5",
   "metadata": {},
   "outputs": [],
   "source": [
    "l1=sorted(l,key=lambda x:x[1],reverse=True)"
   ]
  },
  {
   "cell_type": "code",
   "execution_count": 6,
   "id": "dc322506-1e1e-468c-beb8-37c101045877",
   "metadata": {},
   "outputs": [
    {
     "data": {
      "text/plain": [
       "[('Sachin Tendulkar', 34357),\n",
       " ('Ricky Ponting', 27483),\n",
       " ('Jack Kallis', 25534),\n",
       " ('Virat Kohli', 24936)]"
      ]
     },
     "execution_count": 6,
     "metadata": {},
     "output_type": "execute_result"
    }
   ],
   "source": [
    "l1"
   ]
  },
  {
   "cell_type": "markdown",
   "id": "34cb35f5-878a-40d5-9e94-d63ead0d9b71",
   "metadata": {},
   "source": [
    "# Q2. Write a Python Program to find the squares of all the numbers in the given list of integers using lambda and map functions."
   ]
  },
  {
   "cell_type": "code",
   "execution_count": 7,
   "id": "9eab5995-b740-4b55-a5fe-658b5164f8ab",
   "metadata": {},
   "outputs": [],
   "source": [
    "l=[1, 2, 3, 4, 5, 6, 7, 8, 9, 10]"
   ]
  },
  {
   "cell_type": "code",
   "execution_count": 8,
   "id": "deda743d-d44e-4c2a-a363-4f1d2636a8fa",
   "metadata": {},
   "outputs": [
    {
     "data": {
      "text/plain": [
       "[1, 4, 9, 16, 25, 36, 49, 64, 81, 100]"
      ]
     },
     "execution_count": 8,
     "metadata": {},
     "output_type": "execute_result"
    }
   ],
   "source": [
    "list(map(lambda x:x**2,l))"
   ]
  },
  {
   "cell_type": "markdown",
   "id": "38461223-8838-41b4-ab6e-158c99837277",
   "metadata": {},
   "source": [
    "# Q3. Write a python program to convert the given list of integers into a tuple of strings. Use map and lambda functions"
   ]
  },
  {
   "cell_type": "code",
   "execution_count": 9,
   "id": "b722c932-277a-4105-81dc-4b71639689a0",
   "metadata": {},
   "outputs": [],
   "source": [
    "l1=[1, 2, 3, 4, 5, 6, 7, 8, 9, 10]"
   ]
  },
  {
   "cell_type": "code",
   "execution_count": 12,
   "id": "313277b4-3ee9-424a-8160-ef4f205da2fb",
   "metadata": {},
   "outputs": [
    {
     "data": {
      "text/plain": [
       "('1', '2', '3', '4', '5', '6', '7', '8', '9', '10')"
      ]
     },
     "execution_count": 12,
     "metadata": {},
     "output_type": "execute_result"
    }
   ],
   "source": [
    "tuple(map(lambda x:str(x),l1))"
   ]
  },
  {
   "cell_type": "markdown",
   "id": "fd5ebb18-f10f-4f2a-b5c3-244ad4539c40",
   "metadata": {},
   "source": [
    "# Q4. Write a python program using reduce function to compute the product of a list containing numbers from 1 to 25."
   ]
  },
  {
   "cell_type": "code",
   "execution_count": 17,
   "id": "7a2ca0b3-113c-40ec-ad44-a5310809f4af",
   "metadata": {},
   "outputs": [],
   "source": [
    "l1=[i for i in range(1,26)]"
   ]
  },
  {
   "cell_type": "code",
   "execution_count": 14,
   "id": "cdea95bc-c57d-4e55-9106-f53b355e346c",
   "metadata": {},
   "outputs": [],
   "source": [
    "from functools import reduce"
   ]
  },
  {
   "cell_type": "code",
   "execution_count": 18,
   "id": "e2b04d42-a860-4a01-a08e-74e0346af8c3",
   "metadata": {},
   "outputs": [
    {
     "data": {
      "text/plain": [
       "15511210043330985984000000"
      ]
     },
     "execution_count": 18,
     "metadata": {},
     "output_type": "execute_result"
    }
   ],
   "source": [
    "reduce(lambda x,y:x*y,l1)"
   ]
  },
  {
   "cell_type": "markdown",
   "id": "550023d0-24d5-4b9a-aa3c-625b7ce3ada1",
   "metadata": {},
   "source": [
    "# Q5. Write a python program to filter the numbers in a given list that are divisible by 2 and 3 using the filter function."
   ]
  },
  {
   "cell_type": "code",
   "execution_count": 19,
   "id": "ec9772d8-5c0c-46b6-bbb1-c06a5081e7e5",
   "metadata": {},
   "outputs": [],
   "source": [
    "l2=[2, 3, 6, 9, 27, 60, 90, 120, 55, 46]"
   ]
  },
  {
   "cell_type": "code",
   "execution_count": 21,
   "id": "6507fc41-9751-4e5f-815f-e25d018e0204",
   "metadata": {},
   "outputs": [
    {
     "data": {
      "text/plain": [
       "[6, 60, 90, 120]"
      ]
     },
     "execution_count": 21,
     "metadata": {},
     "output_type": "execute_result"
    }
   ],
   "source": [
    "list(filter(lambda x:x%2==0 and x%3==0,l2))"
   ]
  },
  {
   "cell_type": "markdown",
   "id": "955c4bc5-f2bc-4b89-b1fa-94626fcf6d35",
   "metadata": {},
   "source": [
    "# Q6. Write a python program to find palindromes in the given list of strings using lambda and filter function."
   ]
  },
  {
   "cell_type": "code",
   "execution_count": 22,
   "id": "a408781c-9cf5-4440-91a6-9dbd7e4dfb23",
   "metadata": {},
   "outputs": [],
   "source": [
    "p=['python', 'php', 'aba', 'radar', 'level']"
   ]
  },
  {
   "cell_type": "code",
   "execution_count": 27,
   "id": "1e8a9e49-f4c3-4958-96b5-cc81daf9d79f",
   "metadata": {},
   "outputs": [
    {
     "data": {
      "text/plain": [
       "['php', 'aba', 'radar', 'level']"
      ]
     },
     "execution_count": 27,
     "metadata": {},
     "output_type": "execute_result"
    }
   ],
   "source": [
    "list(filter(lambda x: x[::-1]==x,p))"
   ]
  },
  {
   "cell_type": "code",
   "execution_count": null,
   "id": "59db1598-d2b9-416b-9ff4-c723281ec8a3",
   "metadata": {},
   "outputs": [],
   "source": []
  }
 ],
 "metadata": {
  "kernelspec": {
   "display_name": "Python 3 (ipykernel)",
   "language": "python",
   "name": "python3"
  },
  "language_info": {
   "codemirror_mode": {
    "name": "ipython",
    "version": 3
   },
   "file_extension": ".py",
   "mimetype": "text/x-python",
   "name": "python",
   "nbconvert_exporter": "python",
   "pygments_lexer": "ipython3",
   "version": "3.10.8"
  }
 },
 "nbformat": 4,
 "nbformat_minor": 5
}
