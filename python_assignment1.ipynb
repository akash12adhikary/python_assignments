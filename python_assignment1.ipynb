{
 "cells": [
  {
   "cell_type": "markdown",
   "id": "538707f7-3728-4c4e-a114-6a4aed87d688",
   "metadata": {},
   "source": [
    "## Q4 Create a list of length 10 of your choice containing multiple types of data. Using for loop print the element and its data type.\n"
   ]
  },
  {
   "cell_type": "code",
   "execution_count": 1,
   "id": "bbc94eca-ded2-41c2-829d-edf1332d79b6",
   "metadata": {},
   "outputs": [],
   "source": [
    "l=[4,3,\"hello\",2.00,True,6+5j,8,4.00,9,\"the class\"]"
   ]
  },
  {
   "cell_type": "code",
   "execution_count": 5,
   "id": "f11ca55c-42fc-453e-b9fd-88983fa171ca",
   "metadata": {},
   "outputs": [
    {
     "name": "stdout",
     "output_type": "stream",
     "text": [
      "4 ::::: <class 'int'>\n",
      "3 ::::: <class 'int'>\n",
      "hello ::::: <class 'str'>\n",
      "2.0 ::::: <class 'float'>\n",
      "True ::::: <class 'bool'>\n",
      "(6+5j) ::::: <class 'complex'>\n",
      "8 ::::: <class 'int'>\n",
      "4.0 ::::: <class 'float'>\n",
      "9 ::::: <class 'int'>\n",
      "the class ::::: <class 'str'>\n"
     ]
    }
   ],
   "source": [
    "for i in l:\n",
    "    print(i,\":::::\",type(i))"
   ]
  },
  {
   "cell_type": "markdown",
   "id": "4f1d5c9c-8838-4cbd-a7ad-5d4379f9ce69",
   "metadata": {},
   "source": [
    "## Q5. Using a while loop, verify if the number A is purely divisible by number B and if so then how many times it can be divisible."
   ]
  },
  {
   "cell_type": "code",
   "execution_count": 6,
   "id": "4affe7da-d77d-4309-ae12-e8eed4c824d6",
   "metadata": {},
   "outputs": [
    {
     "name": "stdout",
     "output_type": "stream",
     "text": [
      "NUmber of times divisible : 2\n"
     ]
    }
   ],
   "source": [
    "A=20\n",
    "B=2\n",
    "c=0\n",
    "while(A!=0):\n",
    "    if A%B==0:\n",
    "        A=A//B\n",
    "        c=c+1\n",
    "    else:\n",
    "        break\n",
    "print(\"NUmber of times divisible :\",c)\n"
   ]
  },
  {
   "cell_type": "markdown",
   "id": "bfb77ffc-5198-446b-8141-6ec514e0b537",
   "metadata": {},
   "source": [
    "# Q6. Create a list containing 25 int type data. Using for loop and if-else condition print if the element is divisible by 3 or not."
   ]
  },
  {
   "cell_type": "code",
   "execution_count": 12,
   "id": "2520eb88-3f76-45fd-a10c-0927e1410b75",
   "metadata": {},
   "outputs": [
    {
     "name": "stdout",
     "output_type": "stream",
     "text": [
      "3\n",
      "6\n",
      "9\n",
      "12\n",
      "15\n",
      "18\n",
      "21\n",
      "24\n"
     ]
    }
   ],
   "source": [
    "l=list(range(1,26))\n",
    "for i in l:\n",
    "    if i%3==0:\n",
    "        print(i)\n",
    "        "
   ]
  },
  {
   "cell_type": "code",
   "execution_count": null,
   "id": "257ce410-54c5-48c2-ac30-b91c36c2012b",
   "metadata": {},
   "outputs": [],
   "source": []
  }
 ],
 "metadata": {
  "kernelspec": {
   "display_name": "Python 3 (ipykernel)",
   "language": "python",
   "name": "python3"
  },
  "language_info": {
   "codemirror_mode": {
    "name": "ipython",
    "version": 3
   },
   "file_extension": ".py",
   "mimetype": "text/x-python",
   "name": "python",
   "nbconvert_exporter": "python",
   "pygments_lexer": "ipython3",
   "version": "3.10.8"
  }
 },
 "nbformat": 4,
 "nbformat_minor": 5
}
