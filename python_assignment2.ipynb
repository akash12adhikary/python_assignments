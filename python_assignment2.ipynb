{
 "cells": [
  {
   "cell_type": "markdown",
   "id": "d9e2e1c6-9fd7-43d5-bd3a-fa6ab057404b",
   "metadata": {},
   "source": [
    "# Q1. Which keyword is used to create a function? Create a function to return a list of odd numbers in the range of 1 to 25."
   ]
  },
  {
   "cell_type": "code",
   "execution_count": 2,
   "id": "6eec58e7-2e7a-497c-a2c7-064f707ebe28",
   "metadata": {},
   "outputs": [],
   "source": [
    "def odd():\n",
    "    l=[]\n",
    "    for i in range(1,26,2):\n",
    "        l.append(i)\n",
    "    return l\n",
    "    "
   ]
  },
  {
   "cell_type": "code",
   "execution_count": 3,
   "id": "475c3600-fc3c-4be1-841c-1446f55de6c0",
   "metadata": {},
   "outputs": [
    {
     "name": "stdout",
     "output_type": "stream",
     "text": [
      "[1, 3, 5, 7, 9, 11, 13, 15, 17, 19, 21, 23, 25]\n"
     ]
    }
   ],
   "source": [
    "print(odd())"
   ]
  },
  {
   "cell_type": "markdown",
   "id": "e9286eb0-44cc-467d-abd6-9aee0367a735",
   "metadata": {},
   "source": [
    "# Q2. Why *args and **kwargs is used in some functions? Create a function each for *args and **kwargs to demonstrate their use."
   ]
  },
  {
   "cell_type": "code",
   "execution_count": 4,
   "id": "f5cf8a37-8c7d-4b1f-b3fd-7e91c3149839",
   "metadata": {},
   "outputs": [],
   "source": [
    "def test(**kwargs):\n",
    "    for k,v in kwargs.items():\n",
    "        print(k,\"::::\",v)"
   ]
  },
  {
   "cell_type": "code",
   "execution_count": 5,
   "id": "ae2bfa82-7182-4cc3-80e4-d024892b0985",
   "metadata": {},
   "outputs": [
    {
     "name": "stdout",
     "output_type": "stream",
     "text": [
      "k :::: [1, 2, 3, 4]\n",
      "subh :::: efsef\n",
      "l :::: 54\n"
     ]
    }
   ],
   "source": [
    "test(k=[1,2,3,4],subh=\"efsef\",l=54)"
   ]
  },
  {
   "cell_type": "code",
   "execution_count": 6,
   "id": "ab9fe3c7-5851-411b-9ff1-ca66a086f8ea",
   "metadata": {},
   "outputs": [],
   "source": [
    "def test1(*args):\n",
    "    for i in args:\n",
    "        print(i)"
   ]
  },
  {
   "cell_type": "code",
   "execution_count": 7,
   "id": "ffb1e1ab-2f62-45f2-ac42-12fdc359477b",
   "metadata": {},
   "outputs": [
    {
     "name": "stdout",
     "output_type": "stream",
     "text": [
      "1\n",
      "4\n",
      "dsadjs\n",
      "[45, 'flkjf', 56.21]\n"
     ]
    }
   ],
   "source": [
    "test1(1,4,\"dsadjs\",[45,'flkjf',56.21])"
   ]
  },
  {
   "cell_type": "markdown",
   "id": "6373abe5-3c86-4ef9-b1a7-5dc73b459057",
   "metadata": {},
   "source": [
    "# Q3. What is an iterator in python? Name the method used to initialise the iterator object and the method used for iteration. Use these methods to print the first five elements of the given list [2, 4, 6, 8, 10, 12, 14,16, 18, 20]."
   ]
  },
  {
   "cell_type": "code",
   "execution_count": 8,
   "id": "8259c835-7eff-4689-a758-08d328c0b6fa",
   "metadata": {},
   "outputs": [],
   "source": [
    "def test12(l):\n",
    "    for i in l:\n",
    "        yield i"
   ]
  },
  {
   "cell_type": "code",
   "execution_count": 9,
   "id": "44e5019c-2049-4f11-9c5d-a40af73ca1fb",
   "metadata": {},
   "outputs": [],
   "source": [
    "test10=test12([2, 4, 6, 8, 10, 12, 14,\n",
    "16, 18, 20])"
   ]
  },
  {
   "cell_type": "code",
   "execution_count": 10,
   "id": "eb696bf7-67fa-446e-b0bc-6b9150179406",
   "metadata": {},
   "outputs": [
    {
     "name": "stdout",
     "output_type": "stream",
     "text": [
      "2\n",
      "4\n",
      "6\n",
      "8\n",
      "10\n"
     ]
    }
   ],
   "source": [
    "for i in range(5):\n",
    "    \n",
    "    print(next(test10))"
   ]
  },
  {
   "cell_type": "markdown",
   "id": "1deb7775-b2dc-4dcc-be63-9da4ab901f44",
   "metadata": {},
   "source": [
    "# Q4. What is a generator function in python? Why yield keyword is used? Give an example of a generator function."
   ]
  },
  {
   "cell_type": "code",
   "execution_count": 13,
   "id": "8ef699a2-9be5-497d-9805-bd82221e5543",
   "metadata": {},
   "outputs": [],
   "source": [
    "def tes():\n",
    "    for i in range(20,50,2):\n",
    "        yield i"
   ]
  },
  {
   "cell_type": "code",
   "execution_count": 14,
   "id": "59003856-bdf8-4825-8ce5-b06e04deb923",
   "metadata": {},
   "outputs": [],
   "source": [
    "t=tes()"
   ]
  },
  {
   "cell_type": "code",
   "execution_count": 15,
   "id": "974ac2f2-1eca-4da4-9a79-8b6cdb18eeb3",
   "metadata": {},
   "outputs": [
    {
     "name": "stdout",
     "output_type": "stream",
     "text": [
      "20\n",
      "22\n",
      "24\n",
      "26\n",
      "28\n"
     ]
    }
   ],
   "source": [
    "for i in range(5):\n",
    "    print(next(t))"
   ]
  },
  {
   "cell_type": "markdown",
   "id": "ace4fba3-0c34-4e7b-999e-c22c17b459a8",
   "metadata": {},
   "source": [
    "# Q5.Create a generator function for prime numbers less than 1000. Use the next() method to print thefirst 20 prime numbers."
   ]
  },
  {
   "cell_type": "code",
   "execution_count": 18,
   "id": "2f62789d-12ae-4166-a834-5c008cfd000a",
   "metadata": {},
   "outputs": [],
   "source": [
    "def prime():\n",
    "    \n",
    "    for i in range(2, 1000):\n",
    "        for x in range(2, i):\n",
    "        \n",
    "            if (i%x==0):\n",
    "                break\n",
    "        else:\n",
    "            yield i"
   ]
  },
  {
   "cell_type": "code",
   "execution_count": 19,
   "id": "7e3f89f1-9349-4c9e-afef-c2f7db7deb67",
   "metadata": {},
   "outputs": [],
   "source": [
    "prime=prime()"
   ]
  },
  {
   "cell_type": "code",
   "execution_count": 20,
   "id": "e1b17d0c-6534-4229-8949-50c71b20e212",
   "metadata": {},
   "outputs": [
    {
     "name": "stdout",
     "output_type": "stream",
     "text": [
      "2\n",
      "3\n",
      "5\n",
      "7\n",
      "11\n",
      "13\n",
      "17\n",
      "19\n",
      "23\n",
      "29\n",
      "31\n",
      "37\n",
      "41\n",
      "43\n",
      "47\n",
      "53\n",
      "59\n",
      "61\n",
      "67\n",
      "71\n"
     ]
    }
   ],
   "source": [
    "for i in range(20):\n",
    "    print(next(prime))"
   ]
  },
  {
   "cell_type": "markdown",
   "id": "f7ddd31d-1ef5-4d32-bac0-c125261640c5",
   "metadata": {},
   "source": [
    "# Q6. Write a python program to print the first 10 Fibonacci numbers using a while loop."
   ]
  },
  {
   "cell_type": "code",
   "execution_count": 23,
   "id": "8d723e19-81ff-46a5-a747-545e6a6ebb40",
   "metadata": {},
   "outputs": [],
   "source": [
    "def test3():\n",
    "    a=0\n",
    "    b =1\n",
    "    while True:\n",
    "        yield a\n",
    "        a,b=b,a+b"
   ]
  },
  {
   "cell_type": "code",
   "execution_count": 24,
   "id": "46031c26-8be3-4167-8d9f-6cfd94859d12",
   "metadata": {},
   "outputs": [],
   "source": [
    "test5=test3()"
   ]
  },
  {
   "cell_type": "code",
   "execution_count": 25,
   "id": "75bec952-7778-40f5-9134-e93e602afc49",
   "metadata": {},
   "outputs": [
    {
     "name": "stdout",
     "output_type": "stream",
     "text": [
      "0\n",
      "1\n",
      "1\n",
      "2\n",
      "3\n",
      "5\n",
      "8\n",
      "13\n",
      "21\n",
      "34\n"
     ]
    }
   ],
   "source": [
    "for i in range(10):\n",
    "    print(next(test5))"
   ]
  },
  {
   "cell_type": "markdown",
   "id": "2fbcffa4-f772-4b21-81b7-da2bd08f5fd8",
   "metadata": {},
   "source": [
    "# Q7. Write a List Comprehension to iterate through the given string: ‘pwskills’. Expected output: ['p', 'w', 's', 'k', 'i', 'l', 'l', 's']"
   ]
  },
  {
   "cell_type": "code",
   "execution_count": 26,
   "id": "77e15730-0c10-4f31-8410-b34a7cf90baa",
   "metadata": {},
   "outputs": [],
   "source": [
    "s=\"pwskills\""
   ]
  },
  {
   "cell_type": "code",
   "execution_count": 27,
   "id": "ef48e85e-6b03-445c-85d9-90b517e0a3c8",
   "metadata": {},
   "outputs": [],
   "source": [
    "l=[i for i in s]"
   ]
  },
  {
   "cell_type": "code",
   "execution_count": 28,
   "id": "8d54ce30-20d0-41c3-af3b-567209710bfe",
   "metadata": {},
   "outputs": [
    {
     "data": {
      "text/plain": [
       "['p', 'w', 's', 'k', 'i', 'l', 'l', 's']"
      ]
     },
     "execution_count": 28,
     "metadata": {},
     "output_type": "execute_result"
    }
   ],
   "source": [
    "l"
   ]
  },
  {
   "cell_type": "markdown",
   "id": "55549dfa-8abb-48b6-bcf2-99cf7042d91b",
   "metadata": {},
   "source": [
    "# Q8. Write a python program to check whether a given number is Palindrome or not using a while loop."
   ]
  },
  {
   "cell_type": "code",
   "execution_count": 29,
   "id": "ac6365ad-9270-4ee6-8ea4-a8abbb57d4e2",
   "metadata": {},
   "outputs": [],
   "source": [
    "def rev(n):\n",
    "    sum1=0\n",
    "    m=n\n",
    "    while(m!=0):\n",
    "        d=m%10\n",
    "        sum1=sum1*10+d\n",
    "        m//=10\n",
    "    if(n==sum1):\n",
    "        print(\"palindrome\")\n",
    "    else:\n",
    "        print(\"not palindrome\")"
   ]
  },
  {
   "cell_type": "code",
   "execution_count": 30,
   "id": "2adb6646-4915-4485-886f-80a5f2b46009",
   "metadata": {},
   "outputs": [
    {
     "name": "stdout",
     "output_type": "stream",
     "text": [
      "palindrome\n"
     ]
    }
   ],
   "source": [
    "rev(121)"
   ]
  },
  {
   "cell_type": "code",
   "execution_count": 31,
   "id": "e2552bd8-d27f-4db7-b353-de104306b20a",
   "metadata": {},
   "outputs": [
    {
     "name": "stdout",
     "output_type": "stream",
     "text": [
      "not palindrome\n"
     ]
    }
   ],
   "source": [
    "rev(123)"
   ]
  },
  {
   "cell_type": "markdown",
   "id": "58012c07-db58-4e31-ae8f-469c47f5ec11",
   "metadata": {},
   "source": [
    "# Q9. Write a code to print odd numbers from 1 to 100 using list comprehension."
   ]
  },
  {
   "cell_type": "code",
   "execution_count": 32,
   "id": "d4c459fd-efdd-4211-bcc0-1a427f08606b",
   "metadata": {},
   "outputs": [
    {
     "ename": "SyntaxError",
     "evalue": "invalid syntax. Perhaps you forgot a comma? (3553160466.py, line 1)",
     "output_type": "error",
     "traceback": [
      "\u001b[0;36m  Cell \u001b[0;32mIn[32], line 1\u001b[0;36m\u001b[0m\n\u001b[0;31m    l1=[i for i range(1,101)]\u001b[0m\n\u001b[0m              ^\u001b[0m\n\u001b[0;31mSyntaxError\u001b[0m\u001b[0;31m:\u001b[0m invalid syntax. Perhaps you forgot a comma?\n"
     ]
    }
   ],
   "source": [
    "l1=[i for i range(1,101)]"
   ]
  },
  {
   "cell_type": "code",
   "execution_count": null,
   "id": "380e7dbc-848a-43fb-8102-c454b0053962",
   "metadata": {},
   "outputs": [],
   "source": []
  }
 ],
 "metadata": {
  "kernelspec": {
   "display_name": "Python 3 (ipykernel)",
   "language": "python",
   "name": "python3"
  },
  "language_info": {
   "codemirror_mode": {
    "name": "ipython",
    "version": 3
   },
   "file_extension": ".py",
   "mimetype": "text/x-python",
   "name": "python",
   "nbconvert_exporter": "python",
   "pygments_lexer": "ipython3",
   "version": "3.10.8"
  }
 },
 "nbformat": 4,
 "nbformat_minor": 5
}
