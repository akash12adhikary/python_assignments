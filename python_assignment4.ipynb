{
 "cells": [
  {
   "cell_type": "markdown",
   "id": "b15905d8-d90f-457e-94ab-171f87049ac1",
   "metadata": {},
   "source": [
    "## Q1, Create a vehicle class with an init method having instance variables as name_of_vehicle, max_speed and average_of_vehicle."
   ]
  },
  {
   "cell_type": "code",
   "execution_count": 22,
   "id": "c40ed472-0521-41ad-8c26-2d8079d55b85",
   "metadata": {},
   "outputs": [],
   "source": [
    "class vehicle():\n",
    "     def __init__(self,name_of_vehicle,max_speed,average_of_vehicle):\n",
    "            \n",
    "        self.name_of_vehicle=name_of_vehicle\n",
    "        self.max_speed=max_speed\n",
    "        self.average_of_vehicle=average_of_vehicle\n",
    "    "
   ]
  },
  {
   "cell_type": "markdown",
   "id": "3afcea3d-898b-4060-8fef-9ad5479ee88f",
   "metadata": {},
   "source": [
    "## Q2. Create a child class car from the vehicle class created in Que 1, which will inherit the vehicle class.Create a method named seating_capacity which takes capacity as an argument and returns the name of the vehicle and its seating capacity."
   ]
  },
  {
   "cell_type": "code",
   "execution_count": 41,
   "id": "10b5991e-024a-4826-958d-4355e8ddba2a",
   "metadata": {},
   "outputs": [],
   "source": [
    "class vehicle_child(vehicle):\n",
    "    def __init__(self,name_of_vehicle,max_speed,average_of_vehicle,capacity):\n",
    "        self.capacity=capacity\n",
    "        vehicle.__init__(self,name_of_vehicle,max_speed,average_of_vehicle)\n",
    "    def seating_capacity(self,capacity):\n",
    "        self.capacity=capacity\n",
    "        return \"name of the vehicle: \",self.name_of_vehicle,\" and its seating capacity = \",self.capacity\n"
   ]
  },
  {
   "cell_type": "code",
   "execution_count": 42,
   "id": "abc96e52-e8c1-4dad-a86f-0127fcc38e0b",
   "metadata": {},
   "outputs": [],
   "source": [
    "obj=vehicle_child('maruti',100,25,4)"
   ]
  },
  {
   "cell_type": "code",
   "execution_count": 43,
   "id": "e9c23aae-925b-48ff-8fee-7f6def91a3f4",
   "metadata": {},
   "outputs": [
    {
     "data": {
      "text/plain": [
       "('name of the vehicle: ', 'maruti', ' and its seating capacity = ', 5)"
      ]
     },
     "execution_count": 43,
     "metadata": {},
     "output_type": "execute_result"
    }
   ],
   "source": [
    "obj.seating_capacity(5)"
   ]
  },
  {
   "cell_type": "code",
   "execution_count": 45,
   "id": "2f4e9bf9-9925-441b-b513-2cb6cf2830b0",
   "metadata": {},
   "outputs": [],
   "source": [
    "class vehicle_child1(vehicle):\n",
    "    def seating_capacity(self,capacity):\n",
    "        self.capacity=capacity\n",
    "        return \"name of the vehicle: \",self.name_of_vehicle,\" and its seating capacity = \",self.capacity\n",
    "       "
   ]
  },
  {
   "cell_type": "code",
   "execution_count": 46,
   "id": "779fb4a2-0029-4dbf-a96e-6d205a43be8f",
   "metadata": {},
   "outputs": [],
   "source": [
    "obj1=vehicle_child1('maruti',100,25)"
   ]
  },
  {
   "cell_type": "code",
   "execution_count": 47,
   "id": "074029b6-f3b4-40eb-9aed-7eae927ab894",
   "metadata": {},
   "outputs": [
    {
     "data": {
      "text/plain": [
       "('name of the vehicle: ', 'maruti', ' and its seating capacity = ', 4)"
      ]
     },
     "execution_count": 47,
     "metadata": {},
     "output_type": "execute_result"
    }
   ],
   "source": [
    "obj1.seating_capacity(4)"
   ]
  },
  {
   "cell_type": "markdown",
   "id": "b05e7bec-caaa-45b3-b828-93f7bf8d367c",
   "metadata": {},
   "source": [
    "## Q3. What is multiple inheritance? Write a python code to demonstrate multiple inheritance."
   ]
  },
  {
   "cell_type": "code",
   "execution_count": 48,
   "id": "fc7e129f-cba0-4cdd-a155-dfdeea230fbd",
   "metadata": {},
   "outputs": [],
   "source": [
    "class parent():\n",
    "    def disp(self):\n",
    "        print(\"inside parent\")\n",
    "        "
   ]
  },
  {
   "cell_type": "code",
   "execution_count": 49,
   "id": "96845ba8-2d41-4c44-8df0-d58b8cbe378e",
   "metadata": {},
   "outputs": [],
   "source": [
    "class parent1():\n",
    "    def disp1(self):\n",
    "        print(\"inside parent1\")"
   ]
  },
  {
   "cell_type": "code",
   "execution_count": 50,
   "id": "518885e9-5bfe-4ea8-8dcd-d839926d3e05",
   "metadata": {},
   "outputs": [],
   "source": [
    "class child(parent,parent1):\n",
    "    def show(self):\n",
    "        print(\"inside child\")"
   ]
  },
  {
   "cell_type": "code",
   "execution_count": 51,
   "id": "654be57e-0add-43d1-89f9-32d655f61ac0",
   "metadata": {},
   "outputs": [],
   "source": [
    "obj=child()"
   ]
  },
  {
   "cell_type": "code",
   "execution_count": 52,
   "id": "27f3c712-636e-4e48-913e-d448c25a6cda",
   "metadata": {},
   "outputs": [
    {
     "name": "stdout",
     "output_type": "stream",
     "text": [
      "inside parent\n"
     ]
    }
   ],
   "source": [
    "obj.disp()"
   ]
  },
  {
   "cell_type": "code",
   "execution_count": 53,
   "id": "acf50b4f-cbf0-4f6b-b392-cef4ab91bdde",
   "metadata": {},
   "outputs": [
    {
     "name": "stdout",
     "output_type": "stream",
     "text": [
      "inside parent1\n"
     ]
    }
   ],
   "source": [
    "obj.disp1()"
   ]
  },
  {
   "cell_type": "code",
   "execution_count": 54,
   "id": "13500e2f-bb21-40aa-a06e-e7eef7e153d7",
   "metadata": {},
   "outputs": [
    {
     "name": "stdout",
     "output_type": "stream",
     "text": [
      "inside child\n"
     ]
    }
   ],
   "source": [
    "obj.show()"
   ]
  },
  {
   "cell_type": "markdown",
   "id": "de331233-7c1e-42e3-ac9b-345fc643f0ba",
   "metadata": {},
   "source": [
    "## Q4. What are getter and setter in python? Create a class and create a getter and a setter method in this class."
   ]
  },
  {
   "cell_type": "code",
   "execution_count": 55,
   "id": "a48624a0-18ee-409f-9fff-b6b61a5bfc9c",
   "metadata": {},
   "outputs": [],
   "source": [
    "class test():\n",
    "    def __init__(self,salary):\n",
    "        self.__salary=salary\n",
    "    def set_salary(self,x):\n",
    "        self.__salary=x\n",
    "    def get_salary(self):\n",
    "        return self.__salary"
   ]
  },
  {
   "cell_type": "code",
   "execution_count": 56,
   "id": "317de4f4-5956-4eb2-ad52-51d61426da03",
   "metadata": {},
   "outputs": [],
   "source": [
    "obj=test(2000)"
   ]
  },
  {
   "cell_type": "code",
   "execution_count": 57,
   "id": "1d9e7fe3-a20a-4ad6-9587-49f8ac7f7c20",
   "metadata": {},
   "outputs": [
    {
     "data": {
      "text/plain": [
       "2000"
      ]
     },
     "execution_count": 57,
     "metadata": {},
     "output_type": "execute_result"
    }
   ],
   "source": [
    "obj.get_salary()"
   ]
  },
  {
   "cell_type": "code",
   "execution_count": 58,
   "id": "ec1cdfbe-8328-4f9c-887e-24f53c493498",
   "metadata": {},
   "outputs": [],
   "source": [
    "obj.set_salary(5000)"
   ]
  },
  {
   "cell_type": "code",
   "execution_count": 59,
   "id": "7599f509-40ee-4399-aae9-d0b3c338fff8",
   "metadata": {},
   "outputs": [
    {
     "data": {
      "text/plain": [
       "5000"
      ]
     },
     "execution_count": 59,
     "metadata": {},
     "output_type": "execute_result"
    }
   ],
   "source": [
    "obj.get_salary()"
   ]
  },
  {
   "cell_type": "markdown",
   "id": "4c385ba5-06a2-4961-b877-b3c0a6fa4055",
   "metadata": {},
   "source": [
    "## Q5.What is method overriding in python? Write a python code to demonstrate method overriding."
   ]
  },
  {
   "cell_type": "code",
   "execution_count": 60,
   "id": "846d2631-be19-41d6-bd14-23622eb2e70e",
   "metadata": {},
   "outputs": [],
   "source": [
    "class parent:\n",
    "    def view(self):\n",
    "        print(\"inside parent\")\n",
    "        "
   ]
  },
  {
   "cell_type": "code",
   "execution_count": 61,
   "id": "385533b7-f2e0-4ea8-a69b-e23bc065e01b",
   "metadata": {},
   "outputs": [],
   "source": [
    "class child(parent):\n",
    "    def view(self):\n",
    "        print(\"inside child\")"
   ]
  },
  {
   "cell_type": "code",
   "execution_count": 62,
   "id": "04080b30-44c8-4eaf-8129-da3c56649029",
   "metadata": {},
   "outputs": [],
   "source": [
    "obj=child()\n"
   ]
  },
  {
   "cell_type": "code",
   "execution_count": 63,
   "id": "ccbcf4a2-6bb9-4d04-acd5-58418f27207e",
   "metadata": {},
   "outputs": [
    {
     "name": "stdout",
     "output_type": "stream",
     "text": [
      "inside child\n"
     ]
    }
   ],
   "source": [
    "obj.view()"
   ]
  },
  {
   "cell_type": "code",
   "execution_count": null,
   "id": "47411875-1010-4b66-b1bb-ac5b1013f1ac",
   "metadata": {},
   "outputs": [],
   "source": []
  }
 ],
 "metadata": {
  "kernelspec": {
   "display_name": "Python 3 (ipykernel)",
   "language": "python",
   "name": "python3"
  },
  "language_info": {
   "codemirror_mode": {
    "name": "ipython",
    "version": 3
   },
   "file_extension": ".py",
   "mimetype": "text/x-python",
   "name": "python",
   "nbconvert_exporter": "python",
   "pygments_lexer": "ipython3",
   "version": "3.10.8"
  }
 },
 "nbformat": 4,
 "nbformat_minor": 5
}
